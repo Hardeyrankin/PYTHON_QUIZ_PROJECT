{
 "cells": [
  {
   "cell_type": "code",
   "execution_count": 1,
   "id": "e39475bc",
   "metadata": {},
   "outputs": [
    {
     "name": "stdout",
     "output_type": "stream",
     "text": [
      "Welcome to the Quiz Game!\n",
      "Do you want to play? (yes/no): YES\n",
      "What is the capital of France?: PARIS\n",
      "Correct!\n",
      "What is 2 + 2?: 4\n",
      "Correct!\n",
      "Which planet is known as the Red Planet?: SATURN\n",
      "Incorrect. The correct answer is: mars\n",
      "You answered 2 out of 3 questions correctly.\n",
      "Your percentage score is: 66.66666666666666 %\n"
     ]
    }
   ],
   "source": [
    "def main():\n",
    "    print(\"Welcome to the Quiz Game!\")\n",
    "    play_game = input(\"Do you want to play? (yes/no): \").lower()\n",
    "\n",
    "    if play_game == \"yes\":\n",
    "        questions = [\n",
    "            {\"question\": \"What is the capital of France?\", \"answer\": \"paris\"},\n",
    "            {\"question\": \"What is 2 + 2?\", \"answer\": \"4\"},\n",
    "            {\"question\": \"Which planet is known as the Red Planet?\", \"answer\": \"mars\"}\n",
    "        ]\n",
    "\n",
    "        correct_answers = 0\n",
    "\n",
    "        for question in questions:\n",
    "            user_answer = input(question[\"question\"] + \": \").lower()\n",
    "            if user_answer == question[\"answer\"]:\n",
    "                print(\"Correct!\")\n",
    "                correct_answers += 1\n",
    "            else:\n",
    "                print(\"Incorrect. The correct answer is:\", question[\"answer\"])\n",
    "\n",
    "        total_questions = len(questions)\n",
    "        percentage_score = (correct_answers / total_questions) * 100\n",
    "\n",
    "        print(\"You answered\", correct_answers, \"out of\", total_questions, \"questions correctly.\")\n",
    "        print(\"Your percentage score is:\", percentage_score, \"%\")\n",
    "    else:\n",
    "        print(\"Goodbye!\")\n",
    "\n",
    "if __name__ == \"__main__\":\n",
    "    main()\n"
   ]
  }
 ],
 "metadata": {
  "kernelspec": {
   "display_name": "Python 3 (ipykernel)",
   "language": "python",
   "name": "python3"
  },
  "language_info": {
   "codemirror_mode": {
    "name": "ipython",
    "version": 3
   },
   "file_extension": ".py",
   "mimetype": "text/x-python",
   "name": "python",
   "nbconvert_exporter": "python",
   "pygments_lexer": "ipython3",
   "version": "3.11.4"
  }
 },
 "nbformat": 4,
 "nbformat_minor": 5
}
